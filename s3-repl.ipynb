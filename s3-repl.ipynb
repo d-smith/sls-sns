{
 "cells": [
  {
   "cell_type": "code",
   "execution_count": null,
   "id": "d5ab0412",
   "metadata": {},
   "outputs": [],
   "source": [
    "import boto3\n",
    "import random"
   ]
  },
  {
   "cell_type": "code",
   "execution_count": null,
   "id": "75d318a8",
   "metadata": {},
   "outputs": [],
   "source": [
    "s3 = boto3.resource('s3')"
   ]
  },
  {
   "cell_type": "markdown",
   "id": "9563a150",
   "metadata": {},
   "source": [
    "### Create Buckets and Enable Replication"
   ]
  },
  {
   "cell_type": "code",
   "execution_count": null,
   "id": "62a6c167",
   "metadata": {},
   "outputs": [],
   "source": [
    "import boto3\n",
    "s3 = boto3.client('s3')"
   ]
  },
  {
   "cell_type": "code",
   "execution_count": null,
   "id": "6115d3a5",
   "metadata": {},
   "outputs": [],
   "source": [
    "west_bucket='kfs3-west-dest-dev'\n",
    "east_bucket='kfs3-east-dest-dev'"
   ]
  },
  {
   "cell_type": "code",
   "execution_count": null,
   "id": "fec1958e",
   "metadata": {},
   "outputs": [],
   "source": [
    "s3.create_bucket(\n",
    "    Bucket=east_bucket\n",
    ")"
   ]
  },
  {
   "cell_type": "code",
   "execution_count": null,
   "id": "d1ff83aa",
   "metadata": {},
   "outputs": [],
   "source": [
    "# East versioning\n",
    "s3.put_bucket_versioning(\n",
    "    Bucket=east_bucket,\n",
    "    VersioningConfiguration={\n",
    "        'MFADelete': 'Disabled',\n",
    "        'Status': 'Enabled'\n",
    "    }\n",
    ")"
   ]
  },
  {
   "cell_type": "code",
   "execution_count": null,
   "id": "21b93488",
   "metadata": {},
   "outputs": [],
   "source": [
    "# West bucket\n",
    "s3.create_bucket(\n",
    "    Bucket=west_bucket,\n",
    "    CreateBucketConfiguration={\n",
    "        'LocationConstraint':'us-west-2'\n",
    "    }\n",
    ")"
   ]
  },
  {
   "cell_type": "code",
   "execution_count": null,
   "id": "20f55087",
   "metadata": {},
   "outputs": [],
   "source": [
    "# West versioning\n",
    "s3.put_bucket_versioning(\n",
    "    Bucket=west_bucket,\n",
    "    VersioningConfiguration={\n",
    "        'MFADelete': 'Disabled',\n",
    "        'Status': 'Enabled'\n",
    "    }\n",
    ")"
   ]
  },
  {
   "cell_type": "code",
   "execution_count": null,
   "id": "9f565f86",
   "metadata": {},
   "outputs": [],
   "source": []
  },
  {
   "cell_type": "code",
   "execution_count": null,
   "id": "dfc57068",
   "metadata": {},
   "outputs": [],
   "source": []
  },
  {
   "cell_type": "code",
   "execution_count": null,
   "id": "8c1b6ad7",
   "metadata": {},
   "outputs": [],
   "source": [
    "import os\n",
    "account_no = os.environ['PRODUCER_ACCOUNT_NO']"
   ]
  },
  {
   "cell_type": "code",
   "execution_count": null,
   "id": "a62f0d0d",
   "metadata": {},
   "outputs": [],
   "source": [
    "assume_role_policy_document=\"\"\"{\n",
    "   \"Version\":\"2012-10-17\",\n",
    "   \"Statement\":[\n",
    "      {\n",
    "         \"Effect\":\"Allow\",\n",
    "         \"Principal\":{\n",
    "            \"Service\":\"s3.amazonaws.com\"\n",
    "         },\n",
    "         \"Action\":\"sts:AssumeRole\"\n",
    "      }\n",
    "   ]\n",
    "}\"\"\""
   ]
  },
  {
   "cell_type": "code",
   "execution_count": null,
   "id": "9b3ff962",
   "metadata": {},
   "outputs": [],
   "source": [
    "iam = boto3.client('iam')\n",
    "cr = iam.create_role(\n",
    "    RoleName='repl-sample-role',\n",
    "    AssumeRolePolicyDocument=assume_role_policy_document\n",
    ")\n",
    "\n",
    "print(cr)"
   ]
  },
  {
   "cell_type": "code",
   "execution_count": null,
   "id": "aa167f65",
   "metadata": {},
   "outputs": [],
   "source": [
    "repl_policy_document_west2east=\"\"\"{\n",
    "   \"Version\":\"2012-10-17\",\n",
    "   \"Statement\":[\n",
    "      {\n",
    "         \"Effect\":\"Allow\",\n",
    "         \"Action\":[\n",
    "            \"s3:GetObjectVersionForReplication\",\n",
    "            \"s3:GetObjectVersionAcl\",\n",
    "            \"s3:GetObjectVersionTagging\"\n",
    "         ],\n",
    "         \"Resource\":[\n",
    "            \"arn:aws:s3:::\"\"\" + west_bucket + \"\"\"/*\"\n",
    "         ]\n",
    "      },\n",
    "      {\n",
    "         \"Effect\":\"Allow\",\n",
    "         \"Action\":[\n",
    "            \"s3:ListBucket\",\n",
    "            \"s3:GetReplicationConfiguration\"\n",
    "         ],\n",
    "         \"Resource\":[\n",
    "            \"arn:aws:s3:::\"\"\" + west_bucket + \"\"\"/*\"\n",
    "         ]\n",
    "      },\n",
    "      {\n",
    "         \"Effect\":\"Allow\",\n",
    "         \"Action\":[\n",
    "            \"s3:ReplicateObject\",\n",
    "            \"s3:ReplicateDelete\",\n",
    "            \"s3:ReplicateTags\"\n",
    "         ],\n",
    "         \"Resource\":\"arn:aws:s3:::\"\"\" + east_bucket + \"\"\"/*\"\n",
    "      }\n",
    "   ]\n",
    "}\"\"\"\n"
   ]
  },
  {
   "cell_type": "code",
   "execution_count": null,
   "id": "42bd47b6",
   "metadata": {},
   "outputs": [],
   "source": [
    "repl_policy_document_east2west=\"\"\"{\n",
    "   \"Version\":\"2012-10-17\",\n",
    "   \"Statement\":[\n",
    "      {\n",
    "         \"Effect\":\"Allow\",\n",
    "         \"Action\":[\n",
    "            \"s3:GetObjectVersionForReplication\",\n",
    "            \"s3:GetObjectVersionAcl\",\n",
    "            \"s3:GetObjectVersionTagging\"\n",
    "         ],\n",
    "         \"Resource\":[\n",
    "            \"arn:aws:s3:::\"\"\" + east_bucket + \"\"\"/*\"\n",
    "         ]\n",
    "      },\n",
    "      {\n",
    "         \"Effect\":\"Allow\",\n",
    "         \"Action\":[\n",
    "            \"s3:ListBucket\",\n",
    "            \"s3:GetReplicationConfiguration\"\n",
    "         ],\n",
    "         \"Resource\":[\n",
    "            \"arn:aws:s3:::\"\"\" + east_bucket + \"\"\"/*\"\n",
    "         ]\n",
    "      },\n",
    "      {\n",
    "         \"Effect\":\"Allow\",\n",
    "         \"Action\":[\n",
    "            \"s3:ReplicateObject\",\n",
    "            \"s3:ReplicateDelete\",\n",
    "            \"s3:ReplicateTags\"\n",
    "         ],\n",
    "         \"Resource\":\"arn:aws:s3:::\"\"\" + west_bucket + \"\"\"/*\"\n",
    "      }\n",
    "   ]\n",
    "}\"\"\"\n"
   ]
  },
  {
   "cell_type": "code",
   "execution_count": null,
   "id": "6b020658",
   "metadata": {},
   "outputs": [],
   "source": [
    "cp = iam.create_policy(\n",
    "    PolicyName='repl-sample-policy-e2w',\n",
    "    PolicyDocument=repl_policy_document_east2west\n",
    ")\n",
    "\n",
    "print(cp)"
   ]
  },
  {
   "cell_type": "code",
   "execution_count": null,
   "id": "215a1659",
   "metadata": {},
   "outputs": [],
   "source": [
    "cp = iam.create_policy(\n",
    "    PolicyName='repl-sample-policy-w2e',\n",
    "    PolicyDocument=repl_policy_document_west2east\n",
    ")\n",
    "\n",
    "print(cp)"
   ]
  },
  {
   "cell_type": "code",
   "execution_count": null,
   "id": "944184d4",
   "metadata": {},
   "outputs": [],
   "source": [
    "ap = iam.attach_role_policy(\n",
    "    RoleName='repl-sample-role',\n",
    "    PolicyArn=\"arn:aws:iam::{}:policy/repl-sample-policy-e2w\".format(account_no)\n",
    ")\n",
    "print(ap)\n",
    "\n"
   ]
  },
  {
   "cell_type": "code",
   "execution_count": null,
   "id": "a3484de8",
   "metadata": {},
   "outputs": [],
   "source": [
    "ap = iam.attach_role_policy(\n",
    "    RoleName='repl-sample-role',\n",
    "    PolicyArn=\"arn:aws:iam::{}:policy/repl-sample-policy-w2e\".format(account_no)\n",
    ")\n",
    "print(ap)"
   ]
  },
  {
   "cell_type": "code",
   "execution_count": null,
   "id": "65be7a9e",
   "metadata": {},
   "outputs": [],
   "source": [
    "role_arn='arn:aws:iam::{}:role/repl-sample-role'.format(account_no)\n",
    "print(role_arn)"
   ]
  },
  {
   "cell_type": "code",
   "execution_count": null,
   "id": "74df47bd",
   "metadata": {},
   "outputs": [],
   "source": [
    "# Configure replication - east to west\n",
    "\n",
    "# Note to future self: if Prefix is not included you will receive a MalformedXML error with\n",
    "# no explanation as to the root cause.\n",
    "s3.put_bucket_replication(\n",
    "    Bucket=east_bucket,\n",
    "    ReplicationConfiguration={\n",
    "        \"Role\":role_arn,\n",
    "        \"Rules\":[\n",
    "            {\n",
    "                \"ID\":\"rule1\",\n",
    "                \"Status\":\"Enabled\",\n",
    "                \"Destination\": {\n",
    "                    \"Bucket\" : \"arn:aws:s3:::\" + west_bucket\n",
    "                },\n",
    "                \"Prefix\":\"\"\n",
    "            }\n",
    "        ]\n",
    "    }\n",
    ")"
   ]
  },
  {
   "cell_type": "code",
   "execution_count": null,
   "id": "4491cc09",
   "metadata": {},
   "outputs": [],
   "source": [
    "# Configure replication - west to east\n",
    "\n",
    "# Note to future self: if Prefix is not included you will receive a MalformedXML error with\n",
    "# no explanation as to the root cause.\n",
    "s3.put_bucket_replication(\n",
    "    Bucket=west_bucket,\n",
    "    ReplicationConfiguration={\n",
    "        \"Role\":role_arn,\n",
    "        \"Rules\":[\n",
    "            {\n",
    "                \"ID\":\"shithead\",\n",
    "                \"Status\":\"Enabled\",\n",
    "                \"Destination\": {\n",
    "                    \"Bucket\" : \"arn:aws:s3:::\" + east_bucket\n",
    "                },\n",
    "                \"Prefix\":\"\"\n",
    "            }\n",
    "        ]\n",
    "    }\n",
    ")"
   ]
  },
  {
   "cell_type": "code",
   "execution_count": null,
   "id": "1bb5cb00",
   "metadata": {},
   "outputs": [],
   "source": [
    "## TODO - ADD CLEAN UP"
   ]
  },
  {
   "cell_type": "code",
   "execution_count": null,
   "id": "10cb8585",
   "metadata": {},
   "outputs": [],
   "source": [
    "s3.delete_bucket_replication(\n",
    "    Bucket=east_bucket\n",
    ")"
   ]
  },
  {
   "cell_type": "code",
   "execution_count": null,
   "id": "72969f95",
   "metadata": {},
   "outputs": [],
   "source": [
    "s3.delete_bucket_replication(\n",
    "    Bucket=west_bucket\n",
    ")"
   ]
  },
  {
   "cell_type": "code",
   "execution_count": null,
   "id": "b67a5f50",
   "metadata": {},
   "outputs": [],
   "source": [
    "def empty_and_delete(bucket, s3client):\n",
    "    response = s3client.list_object_versions(\n",
    "        Bucket=bucket,\n",
    "        Prefix='',\n",
    "        MaxKeys=100\n",
    "    )\n",
    "\n",
    "\n",
    "    print (response)\n",
    "\n",
    "    if 'Versions' in response:\n",
    "        versions = response['Versions']\n",
    "        for v in versions:\n",
    "            print (v['Key'])\n",
    "    else:\n",
    "        print('No versions')\n",
    "\n",
    "\n",
    "    if 'Versions' in response:\n",
    "        for version in versions:\n",
    "            response = s3client.delete_object(\n",
    "                Bucket=bucket1,\n",
    "                Key=version['Key'],\n",
    "                VersionId=version['VersionId']\n",
    "            )\n",
    "\n",
    "            print(response)\n",
    "\n",
    "    response = s3client.delete_bucket(\n",
    "        Bucket=bucket\n",
    "    )\n",
    "\n",
    "    print(response)"
   ]
  },
  {
   "cell_type": "code",
   "execution_count": null,
   "id": "55ff6236",
   "metadata": {},
   "outputs": [],
   "source": [
    "empty_and_delete(west_bucket, s3)"
   ]
  },
  {
   "cell_type": "code",
   "execution_count": null,
   "id": "b0f9ad04",
   "metadata": {},
   "outputs": [],
   "source": [
    "empty_and_delete(east_bucket, s3)"
   ]
  },
  {
   "cell_type": "code",
   "execution_count": null,
   "id": "6f01bc07",
   "metadata": {},
   "outputs": [],
   "source": [
    "policy_arn_e2w=\"arn:aws:iam::{}:policy/repl-sample-policy-e2w\".format(account_no)\n",
    "policy_arn_w2e=\"arn:aws:iam::{}:policy/repl-sample-policy-w2e\".format(account_no)"
   ]
  },
  {
   "cell_type": "code",
   "execution_count": null,
   "id": "00b6f7ed",
   "metadata": {},
   "outputs": [],
   "source": [
    "iam.detach_role_policy(\n",
    "    RoleName='repl-sample-role',\n",
    "    PolicyArn=policy_arn_e2w\n",
    ")"
   ]
  },
  {
   "cell_type": "code",
   "execution_count": null,
   "id": "112bd0dd",
   "metadata": {},
   "outputs": [],
   "source": [
    "iam.delete_policy(\n",
    "    PolicyArn=policy_arn_e2w\n",
    ")"
   ]
  },
  {
   "cell_type": "code",
   "execution_count": null,
   "id": "b452bc33",
   "metadata": {},
   "outputs": [],
   "source": [
    "iam.detach_role_policy(\n",
    "    RoleName='repl-sample-role',\n",
    "    PolicyArn=policy_arn_w2e\n",
    ")"
   ]
  },
  {
   "cell_type": "code",
   "execution_count": null,
   "id": "40e927ad",
   "metadata": {},
   "outputs": [],
   "source": [
    "iam.delete_policy(\n",
    "    PolicyArn=policy_arn_w2e\n",
    ")"
   ]
  },
  {
   "cell_type": "code",
   "execution_count": null,
   "id": "db35bb55",
   "metadata": {},
   "outputs": [],
   "source": [
    "iam.delete_role(\n",
    "    RoleName='repl-sample-role'\n",
    ")"
   ]
  },
  {
   "cell_type": "code",
   "execution_count": null,
   "id": "abcddf6d",
   "metadata": {},
   "outputs": [],
   "source": []
  },
  {
   "cell_type": "code",
   "execution_count": null,
   "id": "f870bfe1",
   "metadata": {},
   "outputs": [],
   "source": []
  }
 ],
 "metadata": {
  "kernelspec": {
   "display_name": "Python 3",
   "language": "python",
   "name": "python3"
  },
  "language_info": {
   "codemirror_mode": {
    "name": "ipython",
    "version": 3
   },
   "file_extension": ".py",
   "mimetype": "text/x-python",
   "name": "python",
   "nbconvert_exporter": "python",
   "pygments_lexer": "ipython3",
   "version": "3.9.1"
  }
 },
 "nbformat": 4,
 "nbformat_minor": 5
}
