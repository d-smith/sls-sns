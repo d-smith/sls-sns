{
 "cells": [
  {
   "cell_type": "code",
   "execution_count": null,
   "id": "8d53da87",
   "metadata": {},
   "outputs": [],
   "source": [
    "\n",
    "import boto3\n",
    "from botocore.config import Config\n",
    "\n",
    "my_config = Config(\n",
    "    region_name = 'us-west-2'\n",
    ")\n",
    "\n",
    "\n",
    "s3_client = boto3.client('s3',config=my_config)"
   ]
  },
  {
   "cell_type": "code",
   "execution_count": null,
   "id": "57464323",
   "metadata": {},
   "outputs": [],
   "source": [
    "bucket_name = 'kfs3-west-dest-dev'\n",
    "print(bucket_name)"
   ]
  },
  {
   "cell_type": "code",
   "execution_count": null,
   "id": "54fe29bb",
   "metadata": {},
   "outputs": [],
   "source": [
    "#s3_client.create_bucket(\n",
    "#    Bucket=bucket_name\n",
    "#)"
   ]
  },
  {
   "cell_type": "code",
   "execution_count": null,
   "id": "dcd768a8",
   "metadata": {},
   "outputs": [],
   "source": [
    "sns_client = boto3.client('sns',config=my_config)"
   ]
  },
  {
   "cell_type": "code",
   "execution_count": null,
   "id": "fc33197f",
   "metadata": {},
   "outputs": [],
   "source": [
    "import os\n",
    "topic_account = os.environ['PRODUCER_ACCOUNT_NO']\n",
    "topic_arn = 'arn:aws:sns:us-west-2:{}:MyTopic'.format(topic_account)\n",
    "print(topic_arn)"
   ]
  },
  {
   "cell_type": "code",
   "execution_count": null,
   "id": "417cf686",
   "metadata": {},
   "outputs": [],
   "source": [
    "sns_topic_policy = {\n",
    "    \"Version\": \"2012-10-17\",\n",
    "    \"Statement\": [\n",
    "        {\n",
    "            \"Effect\": \"Allow\",\n",
    "            \"Principal\": {\n",
    "                \"Service\": \"s3.amazonaws.com\"  \n",
    "             },\n",
    "            \"Action\": \"sns:Publish\",\n",
    "            \"Resource\": topic_arn,\n",
    "            \"Condition\": {\n",
    "                \"ArnLike\": {\"AWS:SourceArn\": f\"arn:aws:s3:*:*:{bucket_name}\"},\n",
    "                \"StringEquals\": { \"aws:SourceAccount\": topic_account}\n",
    "            },\n",
    "        },\n",
    "    ],\n",
    "}"
   ]
  },
  {
   "cell_type": "code",
   "execution_count": null,
   "id": "dd130b41",
   "metadata": {},
   "outputs": [],
   "source": [
    "print(sns_topic_policy)"
   ]
  },
  {
   "cell_type": "code",
   "execution_count": null,
   "id": "01d5fabe",
   "metadata": {},
   "outputs": [],
   "source": [
    "import json\n",
    "sns_client.set_topic_attributes(\n",
    "    TopicArn=topic_arn,\n",
    "    AttributeName='Policy',\n",
    "    AttributeValue=json.dumps(sns_topic_policy),\n",
    ")\n"
   ]
  },
  {
   "cell_type": "code",
   "execution_count": null,
   "id": "70409fe9",
   "metadata": {},
   "outputs": [],
   "source": [
    "s3_resource = boto3.resource('s3')"
   ]
  },
  {
   "cell_type": "code",
   "execution_count": null,
   "id": "7f704c40",
   "metadata": {},
   "outputs": [],
   "source": [
    "bucket_notification = s3_resource.BucketNotification(bucket_name)"
   ]
  },
  {
   "cell_type": "code",
   "execution_count": null,
   "id": "c7583f37",
   "metadata": {},
   "outputs": [],
   "source": [
    "s3_notification_config = {\n",
    "    'TopicConfigurations': [\n",
    "        {\n",
    "            'TopicArn': topic_arn,\n",
    "            'Events': [\n",
    "                's3:ObjectCreated:*',\n",
    "            ],\n",
    "        },\n",
    "    ],\n",
    "}"
   ]
  },
  {
   "cell_type": "code",
   "execution_count": null,
   "id": "0512da5a",
   "metadata": {},
   "outputs": [],
   "source": [
    "bucket_notification.put(NotificationConfiguration=s3_notification_config)\n"
   ]
  },
  {
   "cell_type": "code",
   "execution_count": null,
   "id": "3997174b",
   "metadata": {},
   "outputs": [],
   "source": [
    "key = 'key-' + str(random.randint(1, 9999999))\n",
    "print(key)"
   ]
  },
  {
   "cell_type": "code",
   "execution_count": null,
   "id": "50ba8d1d",
   "metadata": {},
   "outputs": [],
   "source": [
    "s3_resource.Object(bucket_name, key).put(Body=\"here's some shit\", StorageClass='REDUCED_REDUNDANCY')"
   ]
  },
  {
   "cell_type": "code",
   "execution_count": null,
   "id": "3f532187",
   "metadata": {},
   "outputs": [],
   "source": [
    "lo = s3_client.list_objects(\n",
    "    Bucket=bucket_name\n",
    ")"
   ]
  },
  {
   "cell_type": "code",
   "execution_count": null,
   "id": "9b09e84a",
   "metadata": {},
   "outputs": [],
   "source": [
    "print(lo)"
   ]
  },
  {
   "cell_type": "code",
   "execution_count": null,
   "id": "372e9e51",
   "metadata": {},
   "outputs": [],
   "source": [
    "contents = lo['Contents']"
   ]
  },
  {
   "cell_type": "code",
   "execution_count": null,
   "id": "07640b0a",
   "metadata": {},
   "outputs": [],
   "source": [
    "for c in contents:\n",
    "    print(c['Key'])\n",
    "    s3_client.delete_object(\n",
    "        Bucket=bucket_name,\n",
    "        Key=c['Key']\n",
    "    )\n",
    "    "
   ]
  },
  {
   "cell_type": "code",
   "execution_count": null,
   "id": "69d742b5",
   "metadata": {},
   "outputs": [],
   "source": [
    "s3_client.delete_bucket(\n",
    "    Bucket=bucket_name\n",
    ")"
   ]
  },
  {
   "cell_type": "code",
   "execution_count": null,
   "id": "3e1e5a8e",
   "metadata": {},
   "outputs": [],
   "source": []
  }
 ],
 "metadata": {
  "kernelspec": {
   "display_name": "Python 3",
   "language": "python",
   "name": "python3"
  },
  "language_info": {
   "codemirror_mode": {
    "name": "ipython",
    "version": 3
   },
   "file_extension": ".py",
   "mimetype": "text/x-python",
   "name": "python",
   "nbconvert_exporter": "python",
   "pygments_lexer": "ipython3",
   "version": "3.9.1"
  }
 },
 "nbformat": 4,
 "nbformat_minor": 5
}
